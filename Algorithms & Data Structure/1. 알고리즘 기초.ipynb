{
 "cells": [
  {
   "cell_type": "markdown",
   "id": "f6be682c",
   "metadata": {},
   "source": [
    "삼항 연산자 a if b else c"
   ]
  },
  {
   "cell_type": "code",
   "execution_count": null,
   "id": "a9081c93",
   "metadata": {},
   "outputs": [],
   "source": [
    "a = x if x > y else y\n",
    "print('c는 0입니다.' if c == 0 else 'c는 0이 아닙니다.')"
   ]
  },
  {
   "cell_type": "code",
   "execution_count": 13,
   "id": "d49bf9c6",
   "metadata": {},
   "outputs": [
    {
     "name": "stdout",
     "output_type": "stream",
     "text": [
      "a부터 b까지 정수의 합을 구합니다.\n",
      "정수 a를 입력하세요.: 4\n",
      "정수 a를 입력하세요.: 6\n",
      "4부터 6까지 정수의 합은 15입니다.\n"
     ]
    }
   ],
   "source": [
    "# 실습 1-9\n",
    "\n",
    "print('a부터 b까지 정수의 합을 구합니다.')\n",
    "a = int(input('정수 a를 입력하세요.: '))\n",
    "b = int(input('정수 a를 입력하세요.: '))\n",
    "\n",
    "if a > b:\n",
    "    a, b = b, a    # a와 b를 오름차순으로 정렬\n",
    "    \n",
    "sum = 0\n",
    "for i in range(a, b + 1):\n",
    "    sum += i\n",
    "\n",
    "print(f'{a}부터 {b}까지 정수의 합은 {sum}입니다.')"
   ]
  },
  {
   "cell_type": "code",
   "execution_count": 14,
   "id": "a8208eee",
   "metadata": {},
   "outputs": [
    {
     "name": "stdout",
     "output_type": "stream",
     "text": [
      "+와 -를 번갈아 출력합니다.\n",
      "몇 개를 출력할까요?5\n",
      "+-+-+\n"
     ]
    }
   ],
   "source": [
    "# 실습 1 - 12\n",
    "\n",
    "print('+와 -를 번갈아 출력합니다.')\n",
    "n = int(input('몇 개를 출력할까요?'))\n",
    "\n",
    "for i in range(n):\n",
    "    if i % 2:              # i % 2 != 0이면, 즉, 나머지가 존재하면\n",
    "        print('-', end = '')\n",
    "    else:\n",
    "        print('+', end = '')\n",
    "        \n",
    "print()"
   ]
  },
  {
   "cell_type": "markdown",
   "id": "bd821102",
   "metadata": {},
   "source": [
    "### 2가지 문제점\n",
    "- 반복할 때마다 if문을 수행해서 비효율적\n",
    "- 상황에 따라 유연하게 수정하기 어렵다."
   ]
  },
  {
   "cell_type": "code",
   "execution_count": 16,
   "id": "f8efdfdc",
   "metadata": {},
   "outputs": [
    {
     "name": "stdout",
     "output_type": "stream",
     "text": [
      "+와 -를 번갈아 출력합니다.\n",
      "몇 개를 출력할까요?: 7\n",
      "+-+-+-+\n"
     ]
    }
   ],
   "source": [
    "# 실습 1 - 13\n",
    "\n",
    "print('+와 -를 번갈아 출력합니다.')\n",
    "n = int(input('몇 개를 출력할까요?: '))\n",
    "\n",
    "for _ in range(n // 2):\n",
    "    print('+-', end = '')\n",
    "    \n",
    "if n % 2:\n",
    "    print('+', end = '')\n",
    "    \n",
    "print()"
   ]
  },
  {
   "cell_type": "markdown",
   "id": "8b033265",
   "metadata": {},
   "source": [
    "if 문을 반복문에서 수행하지 않으므로 효율적이며 개수에 따라 마지막에 홀수이면 +만 추가해줌으로써 해결"
   ]
  },
  {
   "cell_type": "code",
   "execution_count": 5,
   "id": "29b5f703",
   "metadata": {},
   "outputs": [
    {
     "name": "stdout",
     "output_type": "stream",
     "text": [
      "    1    2    3    4    5    6    7    8    9\n",
      "    2    4    6    8   10   12   14   16   18\n",
      "    3    6    9   12   15   18   21   24   27\n",
      "    4    8   12   16   20   24   28   32   36\n",
      "    5   10   15   20   25   30   35   40   45\n",
      "    6   12   18   24   30   36   42   48   54\n",
      "    7   14   21   28   35   42   49   56   63\n",
      "    8   16   24   32   40   48   56   64   72\n",
      "    9   18   27   36   45   54   63   72   81\n"
     ]
    }
   ],
   "source": [
    "for i in range(1, 10):\n",
    "    for j in range(1, 10):\n",
    "        print(f'{i * j:5}', end = '')\n",
    "    print()"
   ]
  },
  {
   "cell_type": "code",
   "execution_count": 6,
   "id": "cc8e829b",
   "metadata": {},
   "outputs": [
    {
     "name": "stdout",
     "output_type": "stream",
     "text": [
      "7\n",
      "*\n",
      "**\n",
      "***\n",
      "****\n",
      "*****\n",
      "******\n",
      "*******\n"
     ]
    }
   ],
   "source": [
    "n = int(input())\n",
    "\n",
    "for i in range(n):\n",
    "    for j in range(i + 1):\n",
    "        print('*', end = '')\n",
    "    print()"
   ]
  },
  {
   "cell_type": "code",
   "execution_count": 11,
   "id": "845c5b8e",
   "metadata": {},
   "outputs": [
    {
     "name": "stdout",
     "output_type": "stream",
     "text": [
      "5\n",
      "    *\n",
      "   **\n",
      "  ***\n",
      " ****\n",
      "*****\n"
     ]
    }
   ],
   "source": [
    "n = int(input())\n",
    "\n",
    "for i in range(n):\n",
    "    for j in range(n - i - 1):\n",
    "        print(' ', end = '')\n",
    "    for k in range(i + 1):\n",
    "        print('*', end = '')\n",
    "    print()"
   ]
  }
 ],
 "metadata": {
  "kernelspec": {
   "display_name": "Python 3 (ipykernel)",
   "language": "python",
   "name": "python3"
  },
  "language_info": {
   "codemirror_mode": {
    "name": "ipython",
    "version": 3
   },
   "file_extension": ".py",
   "mimetype": "text/x-python",
   "name": "python",
   "nbconvert_exporter": "python",
   "pygments_lexer": "ipython3",
   "version": "3.9.12"
  }
 },
 "nbformat": 4,
 "nbformat_minor": 5
}
